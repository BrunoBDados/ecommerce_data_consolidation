{
 "cells": [
  {
   "cell_type": "code",
   "execution_count": null,
   "id": "b1c6c214",
   "metadata": {},
   "outputs": [
    {
     "ename": "ModuleNotFoundError",
     "evalue": "No module named 'matplotlib'",
     "output_type": "error",
     "traceback": [
      "\u001b[1;31m---------------------------------------------------------------------------\u001b[0m",
      "\u001b[1;31mModuleNotFoundError\u001b[0m                       Traceback (most recent call last)",
      "Cell \u001b[1;32mIn[3], line 4\u001b[0m\n\u001b[0;32m      1\u001b[0m \u001b[38;5;66;03m# Análise e Visualização de Dados de E-commerce\u001b[39;00m\n\u001b[0;32m      3\u001b[0m \u001b[38;5;28;01mimport\u001b[39;00m\u001b[38;5;250m \u001b[39m\u001b[38;5;21;01mpandas\u001b[39;00m\u001b[38;5;250m \u001b[39m\u001b[38;5;28;01mas\u001b[39;00m\u001b[38;5;250m \u001b[39m\u001b[38;5;21;01mpd\u001b[39;00m\n\u001b[1;32m----> 4\u001b[0m \u001b[38;5;28;01mimport\u001b[39;00m\u001b[38;5;250m \u001b[39m\u001b[38;5;21;01mmatplotlib\u001b[39;00m\u001b[38;5;21;01m.\u001b[39;00m\u001b[38;5;21;01mpyplot\u001b[39;00m\u001b[38;5;250m \u001b[39m\u001b[38;5;28;01mas\u001b[39;00m\u001b[38;5;250m \u001b[39m\u001b[38;5;21;01mplt\u001b[39;00m\n\u001b[0;32m      5\u001b[0m \u001b[38;5;28;01mimport\u001b[39;00m\u001b[38;5;250m \u001b[39m\u001b[38;5;21;01mseaborn\u001b[39;00m\u001b[38;5;250m \u001b[39m\u001b[38;5;28;01mas\u001b[39;00m\u001b[38;5;250m \u001b[39m\u001b[38;5;21;01msns\u001b[39;00m\n\u001b[0;32m      6\u001b[0m \u001b[38;5;28;01mimport\u001b[39;00m\u001b[38;5;250m \u001b[39m\u001b[38;5;21;01mos\u001b[39;00m\n",
      "\u001b[1;31mModuleNotFoundError\u001b[0m: No module named 'matplotlib'"
     ]
    }
   ],
   "source": [
    "\n",
    "# Análise e Visualização de Dados de E-commerce\n",
    "\n",
    "import pandas as pd\n",
    "import matplotlib.pyplot as plt\n",
    "import seaborn as sns\n",
    "import os\n",
    "\n",
    "# Caminho para os dados consolidados\n",
    "processed_data_path = os.path.join('..', 'data', 'processed')\n",
    "consolidated_file = os.path.join(processed_data_path, 'dados_ecommerce_consolidados.csv')\n",
    "\n",
    "# Carregar os dados consolidados\n",
    "df_consolidado = pd.read_csv(consolidated_file)\n",
    "\n",
    "# Converter 'data_pedido' para datetime, pois foi salvo como string\n",
    "df_consolidado['data_pedido'] = pd.to_datetime(df_consolidado['data_pedido'])\n",
    "\n",
    "print(\"Dados consolidados carregados para análise!\")\n",
    "print(df_consolidado.head())\n",
    "\n",
    "# 1. Análises de Vendas por Período\n",
    "df_consolidado['ano_mes'] = df_consolidado['data_pedido'].dt.to_period('M')\n",
    "vendas_mensais = df_consolidado.groupby('ano_mes')['valor_total'].sum().reset_index()\n",
    "vendas_mensais['ano_mes'] = vendas_mensais['ano_mes'].astype(str)  # Para plotar como string\n",
    "\n",
    "plt.figure(figsize=(15, 6))\n",
    "sns.lineplot(x='ano_mes', y='valor_total', data=vendas_mensais)\n",
    "plt.title('Vendas Totais por Mês')\n",
    "plt.xlabel('Ano-Mês')\n",
    "plt.ylabel('Valor Total de Vendas')\n",
    "plt.xticks(rotation=45)\n",
    "plt.grid(True)\n",
    "plt.tight_layout()\n",
    "plt.show()\n",
    "\n",
    "# 2. Top 10 Clientes por Valor Total Gasto\n",
    "top_clientes = df_consolidado.groupby('nome_cliente')['valor_total'].sum().nlargest(10).reset_index()\n",
    "\n",
    "plt.figure(figsize=(12, 7))\n",
    "sns.barplot(x='valor_total', y='nome_cliente', data=top_clientes)\n",
    "plt.title('Top 10 Clientes por Valor Total Gasto')\n",
    "plt.xlabel('Valor Total Gasto')\n",
    "plt.ylabel('Nome do Cliente')\n",
    "plt.tight_layout()\n",
    "plt.show()\n",
    "\n",
    "# 3. Vendas por Categoria de Produto\n",
    "vendas_por_categoria = df_consolidado.groupby('produto_associado_categoria')['valor_total'].sum().sort_values(ascending=False).reset_index()\n",
    "\n",
    "plt.figure(figsize=(12, 7))\n",
    "sns.barplot(x='valor_total', y='produto_associado_categoria', data=vendas_por_categoria)\n",
    "plt.title('Vendas Totais por Categoria de Produto')\n",
    "plt.xlabel('Valor Total de Vendas')\n",
    "plt.ylabel('Categoria de Produto')\n",
    "plt.tight_layout()\n",
    "plt.show()\n",
    "\n",
    "# 4. Número de Pedidos por País\n",
    "pedidos_por_pais = df_consolidado['pais'].value_counts().reset_index()\n",
    "pedidos_por_pais.columns = ['Pais', 'Numero_Pedidos']\n",
    "\n",
    "plt.figure(figsize=(12, 7))\n",
    "sns.barplot(x='Numero_Pedidos', y='Pais', data=pedidos_por_pais)\n",
    "plt.title('Número de Pedidos por País')\n",
    "plt.xlabel('Número de Pedidos')\n",
    "plt.ylabel('País')\n",
    "plt.tight_layout()\n",
    "plt.show()\n",
    "\n",
    "print(\"\\nAnálise e Visualização Concluídas!\")\n"
   ]
  }
 ],
 "metadata": {
  "kernelspec": {
   "display_name": "Python 3",
   "language": "python",
   "name": "python3"
  },
  "language_info": {
   "codemirror_mode": {
    "name": "ipython",
    "version": 3
   },
   "file_extension": ".py",
   "mimetype": "text/x-python",
   "name": "python",
   "nbconvert_exporter": "python",
   "pygments_lexer": "ipython3",
   "version": "3.13.1"
  }
 },
 "nbformat": 4,
 "nbformat_minor": 5
}
