{
 "cells": [
  {
   "cell_type": "code",
   "execution_count": null,
   "id": "669ba12a",
   "metadata": {},
   "outputs": [
    {
     "ename": "PermissionError",
     "evalue": "[WinError 5] Acesso negado: '../data'",
     "output_type": "error",
     "traceback": [
      "\u001b[1;31m---------------------------------------------------------------------------\u001b[0m",
      "\u001b[1;31mPermissionError\u001b[0m                           Traceback (most recent call last)",
      "Cell \u001b[1;32mIn[1], line 9\u001b[0m\n\u001b[0;32m      7\u001b[0m raw_data_path \u001b[38;5;241m=\u001b[39m \u001b[38;5;124m'\u001b[39m\u001b[38;5;124m../data/raw\u001b[39m\u001b[38;5;124m'\u001b[39m\n\u001b[0;32m      8\u001b[0m processed_data_path \u001b[38;5;241m=\u001b[39m \u001b[38;5;124m'\u001b[39m\u001b[38;5;124m../data/processed\u001b[39m\u001b[38;5;124m'\u001b[39m\n\u001b[1;32m----> 9\u001b[0m \u001b[43mos\u001b[49m\u001b[38;5;241;43m.\u001b[39;49m\u001b[43mmakedirs\u001b[49m\u001b[43m(\u001b[49m\u001b[43mprocessed_data_path\u001b[49m\u001b[43m,\u001b[49m\u001b[43m \u001b[49m\u001b[43mexist_ok\u001b[49m\u001b[38;5;241;43m=\u001b[39;49m\u001b[38;5;28;43;01mTrue\u001b[39;49;00m\u001b[43m)\u001b[49m\n\u001b[0;32m     11\u001b[0m \u001b[38;5;66;03m# 1. Carregar os dados\u001b[39;00m\n\u001b[0;32m     12\u001b[0m df_clientes \u001b[38;5;241m=\u001b[39m pd\u001b[38;5;241m.\u001b[39mread_csv(os\u001b[38;5;241m.\u001b[39mpath\u001b[38;5;241m.\u001b[39mjoin(raw_data_path, \u001b[38;5;124m'\u001b[39m\u001b[38;5;124mclientes.csv\u001b[39m\u001b[38;5;124m'\u001b[39m))\n",
      "File \u001b[1;32m~\\anaconda3\\lib\\os.py:215\u001b[0m, in \u001b[0;36mmakedirs\u001b[1;34m(name, mode, exist_ok)\u001b[0m\n\u001b[0;32m    213\u001b[0m \u001b[38;5;28;01mif\u001b[39;00m head \u001b[38;5;129;01mand\u001b[39;00m tail \u001b[38;5;129;01mand\u001b[39;00m \u001b[38;5;129;01mnot\u001b[39;00m path\u001b[38;5;241m.\u001b[39mexists(head):\n\u001b[0;32m    214\u001b[0m     \u001b[38;5;28;01mtry\u001b[39;00m:\n\u001b[1;32m--> 215\u001b[0m         \u001b[43mmakedirs\u001b[49m\u001b[43m(\u001b[49m\u001b[43mhead\u001b[49m\u001b[43m,\u001b[49m\u001b[43m \u001b[49m\u001b[43mexist_ok\u001b[49m\u001b[38;5;241;43m=\u001b[39;49m\u001b[43mexist_ok\u001b[49m\u001b[43m)\u001b[49m\n\u001b[0;32m    216\u001b[0m     \u001b[38;5;28;01mexcept\u001b[39;00m \u001b[38;5;167;01mFileExistsError\u001b[39;00m:\n\u001b[0;32m    217\u001b[0m         \u001b[38;5;66;03m# Defeats race condition when another thread created the path\u001b[39;00m\n\u001b[0;32m    218\u001b[0m         \u001b[38;5;28;01mpass\u001b[39;00m\n",
      "File \u001b[1;32m~\\anaconda3\\lib\\os.py:225\u001b[0m, in \u001b[0;36mmakedirs\u001b[1;34m(name, mode, exist_ok)\u001b[0m\n\u001b[0;32m    223\u001b[0m         \u001b[38;5;28;01mreturn\u001b[39;00m\n\u001b[0;32m    224\u001b[0m \u001b[38;5;28;01mtry\u001b[39;00m:\n\u001b[1;32m--> 225\u001b[0m     \u001b[43mmkdir\u001b[49m\u001b[43m(\u001b[49m\u001b[43mname\u001b[49m\u001b[43m,\u001b[49m\u001b[43m \u001b[49m\u001b[43mmode\u001b[49m\u001b[43m)\u001b[49m\n\u001b[0;32m    226\u001b[0m \u001b[38;5;28;01mexcept\u001b[39;00m \u001b[38;5;167;01mOSError\u001b[39;00m:\n\u001b[0;32m    227\u001b[0m     \u001b[38;5;66;03m# Cannot rely on checking for EEXIST, since the operating system\u001b[39;00m\n\u001b[0;32m    228\u001b[0m     \u001b[38;5;66;03m# could give priority to other errors like EACCES or EROFS\u001b[39;00m\n\u001b[0;32m    229\u001b[0m     \u001b[38;5;28;01mif\u001b[39;00m \u001b[38;5;129;01mnot\u001b[39;00m exist_ok \u001b[38;5;129;01mor\u001b[39;00m \u001b[38;5;129;01mnot\u001b[39;00m path\u001b[38;5;241m.\u001b[39misdir(name):\n",
      "\u001b[1;31mPermissionError\u001b[0m: [WinError 5] Acesso negado: '../data'"
     ]
    }
   ],
   "source": [
    "# Exploração e Consolidação de Dados de E-commerce\n",
    "\n",
    "import pandas as pd\n",
    "import os\n",
    "\n",
    "# Caminhos para os dados\n",
    "raw_data_path = os.path.join('..', 'data', 'raw')\n",
    "processed_data_path = os.path.join('..', 'data', 'processed')\n",
    "os.makedirs(processed_data_path, exist_ok=True)\n",
    "\n",
    "# 1. Carregar os dados\n",
    "df_clientes = pd.read_csv(os.path.join(raw_data_path, 'clientes.csv'))\n",
    "df_produtos = pd.read_csv(os.path.join(raw_data_path, 'produtos.csv'))\n",
    "df_pedidos = pd.read_csv(os.path.join(raw_data_path, 'pedidos.csv'))\n",
    "\n",
    "print(\"Dados carregados com sucesso!\")\n",
    "\n",
    "# 2. Exploração Inicial dos Dados\n",
    "print(\"\\n--- df_clientes Info ---\")\n",
    "df_clientes.info()\n",
    "print(\"\\n--- df_clientes Head ---\")\n",
    "print(df_clientes.head())\n",
    "\n",
    "print(\"\\n--- df_produtos Info ---\")\n",
    "df_produtos.info()\n",
    "print(\"\\n--- df_produtos Head ---\")\n",
    "print(df_produtos.head())\n",
    "\n",
    "print(\"\\n--- df_pedidos Info ---\")\n",
    "df_pedidos.info()\n",
    "print(\"\\n--- df_pedidos Head ---\")\n",
    "print(df_pedidos.head())\n",
    "\n",
    "# Converter 'data_pedido' para datetime para facilitar manipulações\n",
    "df_pedidos['data_pedido'] = pd.to_datetime(df_pedidos['data_pedido'])\n",
    "print(\"\\n'data_pedido' convertida para datetime.\")\n",
    "df_pedidos.info()\n",
    "\n",
    "# 3. Consolidação dos Dados\n",
    "\n",
    "# Merge pedidos com clientes\n",
    "df_consolidado = pd.merge(df_pedidos, df_clientes, on='id_cliente', how='left')\n",
    "print(\"\\n--- Após merge com clientes ---\")\n",
    "print(df_consolidado.head())\n",
    "print(f\"Shape após merge com clientes: {df_consolidado.shape}\")\n",
    "\n",
    "# Merge com produtos\n",
    "df_consolidado = pd.merge(df_consolidado, df_produtos, left_on='id_produto_associado', right_on='id_produto', how='left')\n",
    "print(\"\\n--- Após merge com produtos ---\")\n",
    "print(df_consolidado.head())\n",
    "print(f\"Shape final consolidado: {df_consolidado.shape}\")\n",
    "\n",
    "# Renomear colunas para evitar confusão\n",
    "df_consolidado.rename(columns={\n",
    "    'nome_produto': 'produto_associado_nome',\n",
    "    'categoria': 'produto_associado_categoria',\n",
    "    'preco': 'produto_associado_preco'\n",
    "}, inplace=True)\n",
    "print(\"\\nColunas renomeadas para maior clareza.\")\n",
    "print(df_consolidado.head())\n",
    "\n",
    "# 4. Salvar os dados consolidados\n",
    "output_file = os.path.join(processed_data_path, 'dados_ecommerce_consolidados.csv')\n",
    "df_consolidado.to_csv(output_file, index=False)\n",
    "print(f\"\\nDados consolidados salvos em: {output_file}\")\n",
    "\n",
    "print(\"\\nEtapa de Exploração e Consolidação Concluída!\")\n"
   ]
  },
  {
   "cell_type": "code",
   "execution_count": null,
   "id": "4d422505",
   "metadata": {},
   "outputs": [],
   "source": []
  }
 ],
 "metadata": {
  "kernelspec": {
   "display_name": "Python 3 (ipykernel)",
   "language": "python",
   "name": "python3"
  },
  "language_info": {
   "codemirror_mode": {
    "name": "ipython",
    "version": 3
   },
   "file_extension": ".py",
   "mimetype": "text/x-python",
   "name": "python",
   "nbconvert_exporter": "python",
   "pygments_lexer": "ipython3",
   "version": "3.10.9"
  }
 },
 "nbformat": 4,
 "nbformat_minor": 5
}
