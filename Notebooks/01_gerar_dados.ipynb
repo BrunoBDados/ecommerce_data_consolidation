{
 "cells": [
  {
   "cell_type": "code",
   "execution_count": 4,
   "id": "7de30dc3",
   "metadata": {},
   "outputs": [],
   "source": [
    "import pandas as pd\n",
    "import numpy as np\n",
    "from datetime import datetime, timedelta"
   ]
  },
  {
   "cell_type": "code",
   "execution_count": 5,
   "id": "03ece026",
   "metadata": {},
   "outputs": [],
   "source": [
    "# --- Configuração ---"
   ]
  },
  {
   "cell_type": "code",
   "execution_count": 6,
   "id": "dfe40077",
   "metadata": {},
   "outputs": [],
   "source": [
    "NUM_PEDIDOS = 10000\n",
    "NUM_PRODUTOS = 1000\n",
    "NUM_CLIENTES = 5000\n",
    "DATA_INICIO = datetime(2023, 1, 1)\n",
    "DATA_FIM = datetime(2024, 12, 31)"
   ]
  },
  {
   "cell_type": "code",
   "execution_count": 7,
   "id": "ead73ade",
   "metadata": {},
   "outputs": [],
   "source": [
    "# --- Gerar Dados de Clientes ---"
   ]
  },
  {
   "cell_type": "code",
   "execution_count": 8,
   "id": "7acb0329",
   "metadata": {},
   "outputs": [
    {
     "name": "stdout",
     "output_type": "stream",
     "text": [
      "Gerado clientes.csv\n"
     ]
    }
   ],
   "source": [
    "ids_clientes = np.arange(1, NUM_CLIENTES + 1)\n",
    "nomes_clientes = [f\"Cliente {i}\" for i in ids_clientes]\n",
    "emails_clientes = [f\"cliente{i}@exemplo.com\" for i in ids_clientes]\n",
    "paises = ['Brasil', 'EUA', 'Canadá', 'México', 'Argentina', 'Chile', 'Colômbia', 'Peru', 'Portugal', 'Espanha']\n",
    "paises_clientes = np.random.choice(paises, NUM_CLIENTES)\n",
    "df_clientes = pd.DataFrame({\n",
    "    'id_cliente': ids_clientes,\n",
    "    'nome_cliente': nomes_clientes,\n",
    "    'email_cliente': emails_clientes,\n",
    "    'pais': paises_clientes\n",
    "})\n",
    "df_clientes.to_csv('clientes.csv', index=False)\n",
    "print(\"Gerado clientes.csv\")"
   ]
  },
  {
   "cell_type": "code",
   "execution_count": 9,
   "id": "fd9c588e",
   "metadata": {},
   "outputs": [],
   "source": [
    "# --- Gerar Dados de Produtos ---"
   ]
  },
  {
   "cell_type": "code",
   "execution_count": 10,
   "id": "7eb8448c",
   "metadata": {},
   "outputs": [
    {
     "name": "stdout",
     "output_type": "stream",
     "text": [
      "Gerado produtos.csv\n"
     ]
    }
   ],
   "source": [
    "ids_produtos = np.arange(1, NUM_PRODUTOS + 1)\n",
    "nomes_produtos = [f\"Produto {i}\" for i in ids_produtos]\n",
    "categorias = ['Eletrônicos', 'Roupas', 'Livros', 'Artigos para Casa', 'Esportes', 'Beleza', 'Alimentos', 'Brinquedos']\n",
    "categorias_produtos = np.random.choice(categorias, NUM_PRODUTOS)\n",
    "precos_produtos = np.round(np.random.uniform(5.0, 1000.0, NUM_PRODUTOS), 2)\n",
    "\n",
    "df_produtos = pd.DataFrame({\n",
    "    'id_produto': ids_produtos,\n",
    "    'nome_produto': nomes_produtos,\n",
    "    'categoria': categorias_produtos,\n",
    "    'preco': precos_produtos\n",
    "})\n",
    "df_produtos.to_csv('produtos.csv', index=False)\n",
    "print(\"Gerado produtos.csv\")\n"
   ]
  },
  {
   "cell_type": "code",
   "execution_count": 11,
   "id": "71cbfcde",
   "metadata": {},
   "outputs": [],
   "source": [
    "# --- Gerar Dados de Pedidos ---"
   ]
  },
  {
   "cell_type": "code",
   "execution_count": 12,
   "id": "3263080d",
   "metadata": {},
   "outputs": [],
   "source": [
    "ids_pedidos = np.arange(1, NUM_PEDIDOS + 1)"
   ]
  },
  {
   "cell_type": "code",
   "execution_count": 13,
   "id": "2e6f5011",
   "metadata": {},
   "outputs": [],
   "source": [
    "# IDs de clientes aleatórios para os pedidos"
   ]
  },
  {
   "cell_type": "code",
   "execution_count": 14,
   "id": "ff094be3",
   "metadata": {},
   "outputs": [],
   "source": [
    "ids_clientes_pedido = np.random.choice(ids_clientes, NUM_PEDIDOS)"
   ]
  },
  {
   "cell_type": "code",
   "execution_count": 15,
   "id": "3c867203",
   "metadata": {},
   "outputs": [],
   "source": [
    "# Datas aleatórias para os pedidos"
   ]
  },
  {
   "cell_type": "code",
   "execution_count": 16,
   "id": "121205fa",
   "metadata": {},
   "outputs": [],
   "source": [
    "diferenca_tempo = DATA_FIM - DATA_INICIO\n",
    "dias_aleatorios = np.random.randint(0, diferenca_tempo.days, NUM_PEDIDOS)\n",
    "datas_pedido = [DATA_INICIO + timedelta(days=int(d)) for d in dias_aleatorios]\n"
   ]
  },
  {
   "cell_type": "code",
   "execution_count": 17,
   "id": "57dabf0e",
   "metadata": {},
   "outputs": [],
   "source": [
    "# Valores totais aleatórios para os pedidos"
   ]
  },
  {
   "cell_type": "code",
   "execution_count": 18,
   "id": "d01e683c",
   "metadata": {},
   "outputs": [
    {
     "name": "stdout",
     "output_type": "stream",
     "text": [
      "Gerado pedidos.csv\n",
      "\n",
      "Todos os arquivos CSV foram gerados com sucesso!\n",
      "Você deverá encontrar 'clientes.csv', 'produtos.csv' e 'pedidos.csv' no seu diretório atual.\n"
     ]
    }
   ],
   "source": [
    "valores_totais_pedido = np.round(np.random.uniform(10.0, 5000.0, NUM_PEDIDOS), 2)\n",
    "ids_produtos_associados_pedido = np.random.choice(ids_produtos, NUM_PEDIDOS) # Exemplo: associando um produto para possíveis junções futuras\n",
    "\n",
    "df_pedidos = pd.DataFrame({\n",
    "    'id_pedido': ids_pedidos,\n",
    "    'id_cliente': ids_clientes_pedido,\n",
    "    'data_pedido': datas_pedido,\n",
    "    'valor_total': valores_totais_pedido,\n",
    "    'id_produto_associado': ids_produtos_associados_pedido # Exemplo: associando um produto para futuras análises\n",
    "})\n",
    "df_pedidos.to_csv('pedidos.csv', index=False)\n",
    "print(\"Gerado pedidos.csv\")\n",
    "\n",
    "print(\"\\nTodos os arquivos CSV foram gerados com sucesso!\")\n",
    "print(\"Você deverá encontrar 'clientes.csv', 'produtos.csv' e 'pedidos.csv' no seu diretório atual.\")"
   ]
  }
 ],
 "metadata": {
  "kernelspec": {
   "display_name": "Python 3 (ipykernel)",
   "language": "python",
   "name": "python3"
  },
  "language_info": {
   "codemirror_mode": {
    "name": "ipython",
    "version": 3
   },
   "file_extension": ".py",
   "mimetype": "text/x-python",
   "name": "python",
   "nbconvert_exporter": "python",
   "pygments_lexer": "ipython3",
   "version": "3.10.9"
  }
 },
 "nbformat": 4,
 "nbformat_minor": 5
}
